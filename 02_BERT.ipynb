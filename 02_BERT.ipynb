{
  "nbformat": 4,
  "nbformat_minor": 0,
  "metadata": {
    "colab": {
      "name": "02-BERT.ipynb",
      "provenance": [],
      "collapsed_sections": [],
      "authorship_tag": "ABX9TyP+d4rsjWP2iqw+1d2x1H0s",
      "include_colab_link": true
    },
    "kernelspec": {
      "name": "python3",
      "display_name": "Python 3"
    }
  },
  "cells": [
    {
      "cell_type": "markdown",
      "metadata": {
        "id": "view-in-github",
        "colab_type": "text"
      },
      "source": [
        "<a href=\"https://colab.research.google.com/github/valerielimyh/Intent_Recognition_using_BERT/blob/master/02_BERT.ipynb\" target=\"_parent\"><img src=\"https://colab.research.google.com/assets/colab-badge.svg\" alt=\"Open In Colab\"/></a>"
      ]
    },
    {
      "cell_type": "code",
      "metadata": {
        "id": "ITjVNV3lj9Ej",
        "colab_type": "code",
        "colab": {}
      },
      "source": [
        "! pip install bert\n",
        "! pip install bert-for-tf2\n",
        "! pip install bert-tensorflow\n",
        "! pip install tensorflow-gpu "
      ],
      "execution_count": 0,
      "outputs": []
    },
    {
      "cell_type": "code",
      "metadata": {
        "id": "NDOOIvEEVFgM",
        "colab_type": "code",
        "colab": {
          "base_uri": "https://localhost:8080/",
          "height": 34
        },
        "outputId": "e5c2f21e-c98b-4987-fccb-8754467137ae"
      },
      "source": [
        "from google.colab import drive\n",
        "drive.mount('/content/drive')"
      ],
      "execution_count": 7,
      "outputs": [
        {
          "output_type": "stream",
          "text": [
            "Drive already mounted at /content/drive; to attempt to forcibly remount, call drive.mount(\"/content/drive\", force_remount=True).\n"
          ],
          "name": "stdout"
        }
      ]
    },
    {
      "cell_type": "code",
      "metadata": {
        "id": "rknYg2P8hJns",
        "colab_type": "code",
        "colab": {}
      },
      "source": [
        "from bert import BertModelLayer\n",
        "from bert.loader import StockBertConfig, map_stock_config_to_params, load_stock_weights"
      ],
      "execution_count": 0,
      "outputs": []
    },
    {
      "cell_type": "code",
      "metadata": {
        "id": "VoNScBovahuo",
        "colab_type": "code",
        "colab": {
          "base_uri": "https://localhost:8080/",
          "height": 107
        },
        "outputId": "6a2dcd3c-433a-4d59-dce5-ce25b3a493db"
      },
      "source": [
        "import os\n",
        "import math\n",
        "import datetime\n",
        "import pickle\n",
        "from tqdm import tqdm\n",
        "\n",
        "import pandas as pd\n",
        "import numpy as np\n",
        "\n",
        "import tensorflow as tf\n",
        "from tensorflow import keras\n",
        "\n",
        "import bert\n",
        "from bert import BertModelLayer\n",
        "from bert.loader import StockBertConfig, map_stock_config_to_params, load_stock_weights\n",
        "from bert.tokenization.bert_tokenization import FullTokenizer\n",
        "\n",
        "import seaborn as sns\n",
        "from pylab import rcParams\n",
        "import matplotlib.pyplot as plt\n",
        "from matplotlib.ticker import MaxNLocator\n",
        "from matplotlib import rc\n",
        "\n",
        "from sklearn.metrics import classification_report, precision_score, recall_score, accuracy_score, roc_auc_score, roc_curve, confusion_matrix, log_loss, f1_score, precision_recall_curve, make_scorer\n",
        "from keras.models import model_from_json\n",
        "\n",
        "#settings\n",
        "pd.set_option('display.max_colwidth', -1)\n",
        "np.set_printoptions(threshold=np.inf)\n",
        "pd.options.display.max_columns = None\n",
        "pd.options.display.max_rows = None\n",
        "from IPython.core.interactiveshell import InteractiveShell  \n",
        "InteractiveShell.ast_node_interactivity = \"all\"\n",
        "%matplotlib inline\n",
        "%config InlineBackend.figure_format='retina'\n",
        "sns.set(style='whitegrid', palette='muted', font_scale=1.2)\n",
        "rcParams['figure.figsize'] = 12, 8\n",
        "RANDOM_SEED = 42\n",
        "np.random.seed(RANDOM_SEED)\n",
        "tf.random.set_seed(RANDOM_SEED)"
      ],
      "execution_count": 8,
      "outputs": [
        {
          "output_type": "stream",
          "text": [
            "/usr/local/lib/python3.6/dist-packages/statsmodels/tools/_testing.py:19: FutureWarning: pandas.util.testing is deprecated. Use the functions in the public API at pandas.testing instead.\n",
            "  import pandas.util.testing as tm\n",
            "Using TensorFlow backend.\n",
            "/usr/local/lib/python3.6/dist-packages/ipykernel_launcher.py:28: FutureWarning: Passing a negative integer is deprecated in version 1.0 and will not be supported in future version. Instead, use None to not limit the column width.\n"
          ],
          "name": "stderr"
        }
      ]
    },
    {
      "cell_type": "code",
      "metadata": {
        "id": "-WdbZZQPMkgl",
        "colab_type": "code",
        "colab": {}
      },
      "source": [
        "\n",
        "import tensorflow_hub as hub\n"
      ],
      "execution_count": 0,
      "outputs": []
    },
    {
      "cell_type": "code",
      "metadata": {
        "id": "-gBk20maAIYo",
        "colab_type": "code",
        "colab": {}
      },
      "source": [
        "# from google.colab import drive\n",
        "# drive.mount('/content/drive')"
      ],
      "execution_count": 0,
      "outputs": []
    },
    {
      "cell_type": "code",
      "metadata": {
        "id": "DhO4mXsMM5kK",
        "colab_type": "code",
        "colab": {}
      },
      "source": [
        "# with open('/content/drive/My Drive/Metis/data/processed/df5.pkl', 'rb') as read_file:\n",
        "#     df1 = pickle.load(read_file)"
      ],
      "execution_count": 0,
      "outputs": []
    },
    {
      "cell_type": "code",
      "metadata": {
        "id": "3LTCvAPPANBC",
        "colab_type": "code",
        "colab": {
          "base_uri": "https://localhost:8080/",
          "height": 230
        },
        "outputId": "3e289be6-ea56-49c0-d5b4-88b1c279d3a6"
      },
      "source": [
        "!gdown --id 1OlcvGWReJMuyYQuOZm149vHWwPtlboR6 --output train.csv\n",
        "!gdown --id 1Oi5cRlTybuIF2Fl5Bfsr-KkqrXrdt77w --output valid.csv\n",
        "!gdown --id 1ep9H6-HvhB4utJRLVcLzieWNUSG3P_uF --output test.csv"
      ],
      "execution_count": 3,
      "outputs": [
        {
          "output_type": "stream",
          "text": [
            "Downloading...\n",
            "From: https://drive.google.com/uc?id=1OlcvGWReJMuyYQuOZm149vHWwPtlboR6\n",
            "To: /content/train.csv\n",
            "100% 799k/799k [00:00<00:00, 54.4MB/s]\n",
            "Downloading...\n",
            "From: https://drive.google.com/uc?id=1Oi5cRlTybuIF2Fl5Bfsr-KkqrXrdt77w\n",
            "To: /content/valid.csv\n",
            "100% 43.3k/43.3k [00:00<00:00, 16.1MB/s]\n",
            "Downloading...\n",
            "From: https://drive.google.com/uc?id=1ep9H6-HvhB4utJRLVcLzieWNUSG3P_uF\n",
            "To: /content/test.csv\n",
            "100% 43.1k/43.1k [00:00<00:00, 48.9MB/s]\n"
          ],
          "name": "stdout"
        }
      ]
    },
    {
      "cell_type": "code",
      "metadata": {
        "id": "0ujO4fFzAYxJ",
        "colab_type": "code",
        "colab": {}
      },
      "source": [
        "train = pd.read_csv(\"train.csv\")\n",
        "valid = pd.read_csv(\"valid.csv\")\n",
        "test = pd.read_csv(\"test.csv\")"
      ],
      "execution_count": 0,
      "outputs": []
    },
    {
      "cell_type": "code",
      "metadata": {
        "id": "wNqueuXdANZP",
        "colab_type": "code",
        "colab": {
          "base_uri": "https://localhost:8080/",
          "height": 496
        },
        "outputId": "ab58e3a5-01f0-4b1d-8dfa-fbc99186cf83"
      },
      "source": [
        "train.info()\n",
        "valid.info()\n",
        "test.info()"
      ],
      "execution_count": 5,
      "outputs": [
        {
          "output_type": "stream",
          "text": [
            "<class 'pandas.core.frame.DataFrame'>\n",
            "RangeIndex: 13084 entries, 0 to 13083\n",
            "Data columns (total 2 columns):\n",
            " #   Column  Non-Null Count  Dtype \n",
            "---  ------  --------------  ----- \n",
            " 0   text    13084 non-null  object\n",
            " 1   intent  13084 non-null  object\n",
            "dtypes: object(2)\n",
            "memory usage: 204.6+ KB\n",
            "<class 'pandas.core.frame.DataFrame'>\n",
            "RangeIndex: 700 entries, 0 to 699\n",
            "Data columns (total 2 columns):\n",
            " #   Column  Non-Null Count  Dtype \n",
            "---  ------  --------------  ----- \n",
            " 0   text    700 non-null    object\n",
            " 1   intent  700 non-null    object\n",
            "dtypes: object(2)\n",
            "memory usage: 11.1+ KB\n",
            "<class 'pandas.core.frame.DataFrame'>\n",
            "RangeIndex: 700 entries, 0 to 699\n",
            "Data columns (total 2 columns):\n",
            " #   Column  Non-Null Count  Dtype \n",
            "---  ------  --------------  ----- \n",
            " 0   text    700 non-null    object\n",
            " 1   intent  700 non-null    object\n",
            "dtypes: object(2)\n",
            "memory usage: 11.1+ KB\n"
          ],
          "name": "stdout"
        }
      ]
    },
    {
      "cell_type": "code",
      "metadata": {
        "id": "eVXa_xMaXxYQ",
        "colab_type": "code",
        "colab": {
          "base_uri": "https://localhost:8080/",
          "height": 72
        },
        "outputId": "fb3151a9-d5e5-4d51-b3aa-2e6fbc97b7f5"
      },
      "source": [
        ""
      ],
      "execution_count": 8,
      "outputs": [
        {
          "output_type": "stream",
          "text": [
            "/usr/local/lib/python3.6/dist-packages/statsmodels/tools/_testing.py:19: FutureWarning: pandas.util.testing is deprecated. Use the functions in the public API at pandas.testing instead.\n",
            "  import pandas.util.testing as tm\n"
          ],
          "name": "stderr"
        }
      ]
    },
    {
      "cell_type": "code",
      "metadata": {
        "id": "TeDqk8oDXZ_g",
        "colab_type": "code",
        "colab": {
          "base_uri": "https://localhost:8080/",
          "height": 212
        },
        "outputId": "144b4c93-62a2-4e6a-a8b7-96ece4ae3c10"
      },
      "source": [
        "#Let’s start by downloading one of the simpler pre-trained BERT models and unzip it:\n",
        "!wget https://storage.googleapis.com/bert_models/2018_10_18/uncased_L-12_H-768_A-12.zip"
      ],
      "execution_count": 6,
      "outputs": [
        {
          "output_type": "stream",
          "text": [
            "--2020-05-05 05:45:00--  https://storage.googleapis.com/bert_models/2018_10_18/uncased_L-12_H-768_A-12.zip\n",
            "Resolving storage.googleapis.com (storage.googleapis.com)... 74.125.141.128, 2607:f8b0:400c:c06::80\n",
            "Connecting to storage.googleapis.com (storage.googleapis.com)|74.125.141.128|:443... connected.\n",
            "HTTP request sent, awaiting response... 200 OK\n",
            "Length: 407727028 (389M) [application/zip]\n",
            "Saving to: ‘uncased_L-12_H-768_A-12.zip’\n",
            "\n",
            "uncased_L-12_H-768_ 100%[===================>] 388.84M   148MB/s    in 2.6s    \n",
            "\n",
            "2020-05-05 05:45:03 (148 MB/s) - ‘uncased_L-12_H-768_A-12.zip’ saved [407727028/407727028]\n",
            "\n"
          ],
          "name": "stdout"
        }
      ]
    },
    {
      "cell_type": "code",
      "metadata": {
        "id": "Oh6-D0kJXa-O",
        "colab_type": "code",
        "colab": {
          "base_uri": "https://localhost:8080/",
          "height": 141
        },
        "outputId": "c1e73427-4415-4936-9765-964de1994e3b"
      },
      "source": [
        "!unzip uncased_L-12_H-768_A-12.zip"
      ],
      "execution_count": 7,
      "outputs": [
        {
          "output_type": "stream",
          "text": [
            "Archive:  uncased_L-12_H-768_A-12.zip\n",
            "   creating: uncased_L-12_H-768_A-12/\n",
            "  inflating: uncased_L-12_H-768_A-12/bert_model.ckpt.meta  \n",
            "  inflating: uncased_L-12_H-768_A-12/bert_model.ckpt.data-00000-of-00001  \n",
            "  inflating: uncased_L-12_H-768_A-12/vocab.txt  \n",
            "  inflating: uncased_L-12_H-768_A-12/bert_model.ckpt.index  \n",
            "  inflating: uncased_L-12_H-768_A-12/bert_config.json  \n"
          ],
          "name": "stdout"
        }
      ]
    },
    {
      "cell_type": "code",
      "metadata": {
        "id": "iU7hAS0bYj62",
        "colab_type": "code",
        "colab": {}
      },
      "source": [
        "os.makedirs(\"model\", exist_ok=True)"
      ],
      "execution_count": 0,
      "outputs": []
    },
    {
      "cell_type": "code",
      "metadata": {
        "id": "NSl8aMIpYl-9",
        "colab_type": "code",
        "colab": {}
      },
      "source": [
        "!mv uncased_L-12_H-768_A-12/ model"
      ],
      "execution_count": 0,
      "outputs": []
    },
    {
      "cell_type": "code",
      "metadata": {
        "id": "Vz_OtKgHYy9I",
        "colab_type": "code",
        "colab": {}
      },
      "source": [
        "bert_model_name=\"uncased_L-12_H-768_A-12\"\n",
        "\n",
        "bert_ckpt_dir = os.path.join(\"model/\", bert_model_name)\n",
        "bert_ckpt_file = os.path.join(bert_ckpt_dir, \"bert_model.ckpt\")\n",
        "bert_config_file = os.path.join(bert_ckpt_dir, \"bert_config.json\")"
      ],
      "execution_count": 0,
      "outputs": []
    },
    {
      "cell_type": "code",
      "metadata": {
        "id": "mnyPd9ZWY3rh",
        "colab_type": "code",
        "colab": {
          "base_uri": "https://localhost:8080/",
          "height": 197
        },
        "outputId": "59541581-541b-4fb1-a814-f9dd02740f83"
      },
      "source": [
        "train.head()"
      ],
      "execution_count": 12,
      "outputs": [
        {
          "output_type": "execute_result",
          "data": {
            "text/html": [
              "<div>\n",
              "<style scoped>\n",
              "    .dataframe tbody tr th:only-of-type {\n",
              "        vertical-align: middle;\n",
              "    }\n",
              "\n",
              "    .dataframe tbody tr th {\n",
              "        vertical-align: top;\n",
              "    }\n",
              "\n",
              "    .dataframe thead th {\n",
              "        text-align: right;\n",
              "    }\n",
              "</style>\n",
              "<table border=\"1\" class=\"dataframe\">\n",
              "  <thead>\n",
              "    <tr style=\"text-align: right;\">\n",
              "      <th></th>\n",
              "      <th>text</th>\n",
              "      <th>intent</th>\n",
              "    </tr>\n",
              "  </thead>\n",
              "  <tbody>\n",
              "    <tr>\n",
              "      <th>0</th>\n",
              "      <td>listen to westbam alumb allergic on google music</td>\n",
              "      <td>PlayMusic</td>\n",
              "    </tr>\n",
              "    <tr>\n",
              "      <th>1</th>\n",
              "      <td>add step to me to the 50 clásicos playlist</td>\n",
              "      <td>AddToPlaylist</td>\n",
              "    </tr>\n",
              "    <tr>\n",
              "      <th>2</th>\n",
              "      <td>i give this current textbook a rating value of...</td>\n",
              "      <td>RateBook</td>\n",
              "    </tr>\n",
              "    <tr>\n",
              "      <th>3</th>\n",
              "      <td>play the song little robin redbreast</td>\n",
              "      <td>PlayMusic</td>\n",
              "    </tr>\n",
              "    <tr>\n",
              "      <th>4</th>\n",
              "      <td>please add iris dement to my playlist this is ...</td>\n",
              "      <td>AddToPlaylist</td>\n",
              "    </tr>\n",
              "  </tbody>\n",
              "</table>\n",
              "</div>"
            ],
            "text/plain": [
              "                                                text         intent\n",
              "0   listen to westbam alumb allergic on google music      PlayMusic\n",
              "1         add step to me to the 50 clásicos playlist  AddToPlaylist\n",
              "2  i give this current textbook a rating value of...       RateBook\n",
              "3               play the song little robin redbreast      PlayMusic\n",
              "4  please add iris dement to my playlist this is ...  AddToPlaylist"
            ]
          },
          "metadata": {
            "tags": []
          },
          "execution_count": 12
        }
      ]
    },
    {
      "cell_type": "code",
      "metadata": {
        "id": "rECtKqVlaFrk",
        "colab_type": "code",
        "colab": {
          "base_uri": "https://localhost:8080/",
          "height": 107
        },
        "outputId": "c416c950-8add-479d-ab9b-6969fbff0b09"
      },
      "source": [
        "valid.head(2)"
      ],
      "execution_count": 14,
      "outputs": [
        {
          "output_type": "execute_result",
          "data": {
            "text/html": [
              "<div>\n",
              "<style scoped>\n",
              "    .dataframe tbody tr th:only-of-type {\n",
              "        vertical-align: middle;\n",
              "    }\n",
              "\n",
              "    .dataframe tbody tr th {\n",
              "        vertical-align: top;\n",
              "    }\n",
              "\n",
              "    .dataframe thead th {\n",
              "        text-align: right;\n",
              "    }\n",
              "</style>\n",
              "<table border=\"1\" class=\"dataframe\">\n",
              "  <thead>\n",
              "    <tr style=\"text-align: right;\">\n",
              "      <th></th>\n",
              "      <th>text</th>\n",
              "      <th>intent</th>\n",
              "    </tr>\n",
              "  </thead>\n",
              "  <tbody>\n",
              "    <tr>\n",
              "      <th>0</th>\n",
              "      <td>i d like to have this track onto my classical ...</td>\n",
              "      <td>AddToPlaylist</td>\n",
              "    </tr>\n",
              "    <tr>\n",
              "      <th>1</th>\n",
              "      <td>add the album to my flow español playlist</td>\n",
              "      <td>AddToPlaylist</td>\n",
              "    </tr>\n",
              "  </tbody>\n",
              "</table>\n",
              "</div>"
            ],
            "text/plain": [
              "                                                text         intent\n",
              "0  i d like to have this track onto my classical ...  AddToPlaylist\n",
              "1          add the album to my flow español playlist  AddToPlaylist"
            ]
          },
          "metadata": {
            "tags": []
          },
          "execution_count": 14
        }
      ]
    },
    {
      "cell_type": "code",
      "metadata": {
        "id": "olPy_YbnZ-2A",
        "colab_type": "code",
        "colab": {
          "base_uri": "https://localhost:8080/",
          "height": 158
        },
        "outputId": "dd244f46-9ba9-4ca5-89c1-c36d520d188e"
      },
      "source": [
        "train.intent.value_counts()\n",
        "#target classes are rather balanced"
      ],
      "execution_count": 6,
      "outputs": [
        {
          "output_type": "execute_result",
          "data": {
            "text/plain": [
              "PlayMusic               1914\n",
              "GetWeather              1896\n",
              "BookRestaurant          1881\n",
              "RateBook                1876\n",
              "SearchScreeningEvent    1852\n",
              "SearchCreativeWork      1847\n",
              "AddToPlaylist           1818\n",
              "Name: intent, dtype: int64"
            ]
          },
          "metadata": {
            "tags": []
          },
          "execution_count": 6
        }
      ]
    },
    {
      "cell_type": "markdown",
      "metadata": {
        "id": "q1Oh2eJres1w",
        "colab_type": "text"
      },
      "source": [
        "# Let's preprocess our data so that it matches the data BERT was trained on. \n",
        "\n",
        "For this, we'll \n",
        "\n",
        "1. Lowercase our text (if we're using a BERT lowercase model)\n",
        "2. Tokenize it (i.e. \"sally says hi\" -> [\"sally\", \"says\", \"hi\"])\n",
        "3. Break words into WordPieces (i.e. \"calling\" -> [\"call\", \"##ing\"])\n",
        "4. Map our words to indexes using a vocab file that BERT provides\n",
        "5. Add special \"CLS\" and \"SEP\" tokens (see the readme)\n",
        "6. Append \"index\" and \"segment\" tokens to each input (see the BERT paper)"
      ]
    },
    {
      "cell_type": "code",
      "metadata": {
        "id": "eq-aTh5KeSId",
        "colab_type": "code",
        "colab": {}
      },
      "source": [
        "# Let’s start by creating the BERT tokenizer\n",
        "tokenizer = FullTokenizer(\n",
        "  vocab_file=os.path.join(bert_ckpt_dir, \"vocab.txt\")\n",
        ")"
      ],
      "execution_count": 0,
      "outputs": []
    },
    {
      "cell_type": "code",
      "metadata": {
        "id": "BTlhpdLdeS6U",
        "colab_type": "code",
        "colab": {
          "base_uri": "https://localhost:8080/",
          "height": 230
        },
        "outputId": "471b516a-7b02-420c-ffaf-3d49ba647f75"
      },
      "source": [
        "# let's try it out\n",
        "tokenizer.tokenize(\"This here's an example of using the BERT tokenizer\")\n",
        "# The tokens are in lowercase and the punctuation is available. "
      ],
      "execution_count": 20,
      "outputs": [
        {
          "output_type": "execute_result",
          "data": {
            "text/plain": [
              "['this',\n",
              " 'here',\n",
              " \"'\",\n",
              " 's',\n",
              " 'an',\n",
              " 'example',\n",
              " 'of',\n",
              " 'using',\n",
              " 'the',\n",
              " 'bert',\n",
              " 'token',\n",
              " '##izer']"
            ]
          },
          "metadata": {
            "tags": []
          },
          "execution_count": 20
        }
      ]
    },
    {
      "cell_type": "code",
      "metadata": {
        "id": "wm9X2t3SebRK",
        "colab_type": "code",
        "colab": {
          "base_uri": "https://localhost:8080/",
          "height": 34
        },
        "outputId": "779053b3-a633-433d-af0d-037e977d8e14"
      },
      "source": [
        "# Next, we’ll convert the tokens to numbers. \n",
        "tokens = tokenizer.tokenize(\"This here's an example of using the BERT tokenizer\")\n",
        "tokenizer.convert_tokens_to_ids(tokens)\n",
        "# The tokenizer can do this too"
      ],
      "execution_count": 21,
      "outputs": [
        {
          "output_type": "execute_result",
          "data": {
            "text/plain": [
              "[2023, 2182, 1005, 1055, 2019, 2742, 1997, 2478, 1996, 14324, 19204, 17629]"
            ]
          },
          "metadata": {
            "tags": []
          },
          "execution_count": 21
        }
      ]
    },
    {
      "cell_type": "code",
      "metadata": {
        "id": "8Om4ROgCenOt",
        "colab_type": "code",
        "colab": {}
      },
      "source": [
        "class IntentDetectionData:\n",
        "  DATA_COLUMN = \"text\"\n",
        "  LABEL_COLUMN = \"intent\"\n",
        "\n",
        "  def __init__(\n",
        "    self,\n",
        "    train,\n",
        "    valid,\n",
        "    test,\n",
        "    tokenizer: FullTokenizer,\n",
        "    classes,\n",
        "    max_seq_len=192\n",
        "  ):\n",
        "    self.tokenizer = tokenizer\n",
        "    self.max_seq_len = 0\n",
        "    self.classes = classes\n",
        "\n",
        "    ((self.train_x, self.train_y),(self.valid_x, self.valid_y), (self.test_x, self.test_y)) =\\\n",
        "     map(self._prepare, [train, valid, test])\n",
        "\n",
        "    print(\"max seq_len\", self.max_seq_len)\n",
        "    self.max_seq_len = min(self.max_seq_len, max_seq_len)\n",
        "    self.train_x, self.valid_x, self.test_x = map(\n",
        "      self._pad,\n",
        "      [self.train_x,self.valid_x, self.test_x]\n",
        "    )\n",
        "\n",
        "  def _prepare(self, df):\n",
        "    x, y = [], []\n",
        "\n",
        "    for _, row in tqdm(df.iterrows()):\n",
        "      text, label =\\\n",
        "       row[IntentDetectionData.DATA_COLUMN], \\\n",
        "       row[IntentDetectionData.LABEL_COLUMN]\n",
        "      tokens = self.tokenizer.tokenize(text)\n",
        "      tokens = [\"[CLS]\"] + tokens + [\"[SEP]\"]\n",
        "      token_ids = self.tokenizer.convert_tokens_to_ids(tokens)\n",
        "      self.max_seq_len = max(self.max_seq_len, len(token_ids))\n",
        "      x.append(token_ids)\n",
        "      y.append(self.classes.index(label))\n",
        "\n",
        "    return np.array(x), np.array(y)\n",
        "\n",
        "  def _pad(self, ids):\n",
        "    '''\n",
        "    padding length is calculated by taking the minimum between the longest text and the max sequence length parameter. \n",
        "    surround the tokens for each text with two special tokens: start with [CLS] and end with [SEP]\n",
        "    '''\n",
        "    x = []\n",
        "    for input_ids in ids:\n",
        "      input_ids = input_ids[:min(len(input_ids), self.max_seq_len - 2)]\n",
        "      input_ids = input_ids + [0] * (self.max_seq_len - len(input_ids))\n",
        "      x.append(np.array(input_ids))\n",
        "    return np.array(x)"
      ],
      "execution_count": 0,
      "outputs": []
    },
    {
      "cell_type": "markdown",
      "metadata": {
        "id": "WGwDI_myffZG",
        "colab_type": "text"
      },
      "source": [
        "# Creating a model\n",
        "\n",
        "Now that we've prepared our data, let's build our model."
      ]
    },
    {
      "cell_type": "code",
      "metadata": {
        "id": "gRxIBM2KfKbi",
        "colab_type": "code",
        "colab": {}
      },
      "source": [
        "def create_model(max_seq_len, bert_ckpt_file):\n",
        "  # loads the BERT model\n",
        "  with tf.io.gfile.GFile(bert_config_file, \"r\") as reader:\n",
        "        bc = StockBertConfig.from_json_string(reader.read())\n",
        "        bert_params = map_stock_config_to_params(bc)\n",
        "        bert_params.adapter_size = None\n",
        "        bert = BertModelLayer.from_params(bert_params, name=\"bert\")\n",
        "\n",
        "  input_ids = keras.layers.Input(\n",
        "    shape=(max_seq_len, ),\n",
        "    dtype='int32',\n",
        "    name=\"input_ids\"\n",
        "  )\n",
        "  bert_output = bert(input_ids)\n",
        "\n",
        "  print(\"bert shape:\", bert_output.shape)\n",
        "\n",
        "# create new layers that will be trained to adapt BERT to our classification task\n",
        "#flatten the output and add Dropout with two Fully-Connected layers\n",
        "  cls_out = keras.layers.Lambda(lambda seq: seq[:, 0, :])(bert_output) \n",
        "  cls_out = keras.layers.Dropout(0.5)(cls_out) # Dropout helps prevent overfitting\n",
        "  logits = keras.layers.Dense(units=768, activation=\"relu\")(cls_out)\n",
        "  logits = keras.layers.Dropout(0.5)(logits)\n",
        "  logits = keras.layers.Dense(    units=len(classes),\n",
        "    activation=\"softmax\"\n",
        "  )(logits)\n",
        "\n",
        "  model = keras.Model(inputs=input_ids, outputs=logits)\n",
        "  model.build(input_shape=(None, max_seq_len))\n",
        "\n",
        "  load_stock_weights(bert, bert_ckpt_file)\n",
        "\n",
        "  return model"
      ],
      "execution_count": 0,
      "outputs": []
    },
    {
      "cell_type": "code",
      "metadata": {
        "id": "L7SjZZOFR6DG",
        "colab_type": "code",
        "colab": {
          "base_uri": "https://localhost:8080/",
          "height": 87
        },
        "outputId": "d8a42678-36fe-4fc0-8b75-3298ed251027"
      },
      "source": [
        "classes = train.intent.unique().tolist()\n",
        "\n",
        "data = IntentDetectionData(train, valid, test, tokenizer, classes, max_seq_len=128)"
      ],
      "execution_count": 19,
      "outputs": [
        {
          "output_type": "stream",
          "text": [
            "13084it [00:04, 3256.70it/s]\n",
            "700it [00:00, 3170.81it/s]\n",
            "700it [00:00, 3021.63it/s]\n"
          ],
          "name": "stderr"
        },
        {
          "output_type": "stream",
          "text": [
            "max seq_len 38\n"
          ],
          "name": "stdout"
        }
      ]
    },
    {
      "cell_type": "code",
      "metadata": {
        "id": "9KcZU177sze1",
        "colab_type": "code",
        "colab": {
          "base_uri": "https://localhost:8080/",
          "height": 34
        },
        "outputId": "9affe7f1-135c-4f44-8602-dad0fc788872"
      },
      "source": [
        "data.train_x.shape"
      ],
      "execution_count": 13,
      "outputs": [
        {
          "output_type": "execute_result",
          "data": {
            "text/plain": [
              "(13084, 38)"
            ]
          },
          "metadata": {
            "tags": []
          },
          "execution_count": 13
        }
      ]
    },
    {
      "cell_type": "code",
      "metadata": {
        "id": "xr21JzCqs1-b",
        "colab_type": "code",
        "colab": {
          "base_uri": "https://localhost:8080/",
          "height": 105
        },
        "outputId": "dddcb15c-3213-405c-b7e6-b41e6d106a10"
      },
      "source": [
        "# sample of train data\n",
        "data.train_x[0]"
      ],
      "execution_count": 14,
      "outputs": [
        {
          "output_type": "execute_result",
          "data": {
            "text/plain": [
              "array([  101,  4952,  2000,  2225,  3676,  2213,  2632, 25438, 27395,\n",
              "        2006,  8224,  2189,   102,     0,     0,     0,     0,     0,\n",
              "           0,     0,     0,     0,     0,     0,     0,     0,     0,\n",
              "           0,     0,     0,     0,     0,     0,     0,     0,     0,\n",
              "           0,     0])"
            ]
          },
          "metadata": {
            "tags": []
          },
          "execution_count": 14
        }
      ]
    },
    {
      "cell_type": "code",
      "metadata": {
        "id": "4Zz-dATss4IQ",
        "colab_type": "code",
        "colab": {
          "base_uri": "https://localhost:8080/",
          "height": 34
        },
        "outputId": "7cc88a46-d615-4b41-a5a5-023b563b00f6"
      },
      "source": [
        "data.train_y[0]"
      ],
      "execution_count": 33,
      "outputs": [
        {
          "output_type": "execute_result",
          "data": {
            "text/plain": [
              "0"
            ]
          },
          "metadata": {
            "tags": []
          },
          "execution_count": 33
        }
      ]
    },
    {
      "cell_type": "code",
      "metadata": {
        "id": "7SWr4QQSs5nH",
        "colab_type": "code",
        "colab": {
          "base_uri": "https://localhost:8080/",
          "height": 34
        },
        "outputId": "74083244-7366-473f-ae60-9cabd6693444"
      },
      "source": [
        "data.max_seq_len"
      ],
      "execution_count": 34,
      "outputs": [
        {
          "output_type": "execute_result",
          "data": {
            "text/plain": [
              "38"
            ]
          },
          "metadata": {
            "tags": []
          },
          "execution_count": 34
        }
      ]
    },
    {
      "cell_type": "code",
      "metadata": {
        "id": "-9P9NHt8s7Jm",
        "colab_type": "code",
        "colab": {
          "base_uri": "https://localhost:8080/",
          "height": 267
        },
        "outputId": "28e7a94b-5841-40c2-e1b6-97eb7f484e93"
      },
      "source": [
        "model = create_model(data.max_seq_len, bert_ckpt_file)"
      ],
      "execution_count": 20,
      "outputs": [
        {
          "output_type": "stream",
          "text": [
            "bert shape: (None, 38, 768)\n",
            "Done loading 196 BERT weights from: model/uncased_L-12_H-768_A-12/bert_model.ckpt into <bert.model.BertModelLayer object at 0x7f0f8576d048> (prefix:bert_1). Count of weights not found in the checkpoint was: [0]. Count of weights with mismatched shape: [0]\n",
            "Unused weights from checkpoint: \n",
            "\tbert/embeddings/token_type_embeddings\n",
            "\tbert/pooler/dense/bias\n",
            "\tbert/pooler/dense/kernel\n",
            "\tcls/predictions/output_bias\n",
            "\tcls/predictions/transform/LayerNorm/beta\n",
            "\tcls/predictions/transform/LayerNorm/gamma\n",
            "\tcls/predictions/transform/dense/bias\n",
            "\tcls/predictions/transform/dense/kernel\n",
            "\tcls/seq_relationship/output_bias\n",
            "\tcls/seq_relationship/output_weights\n"
          ],
          "name": "stdout"
        }
      ]
    },
    {
      "cell_type": "code",
      "metadata": {
        "id": "HmJSBFqis9RO",
        "colab_type": "code",
        "colab": {
          "base_uri": "https://localhost:8080/",
          "height": 407
        },
        "outputId": "d02796e4-93b7-48d3-a378-e9d41817174d"
      },
      "source": [
        "model.summary()"
      ],
      "execution_count": 21,
      "outputs": [
        {
          "output_type": "stream",
          "text": [
            "Model: \"model_1\"\n",
            "_________________________________________________________________\n",
            "Layer (type)                 Output Shape              Param #   \n",
            "=================================================================\n",
            "input_ids (InputLayer)       [(None, 38)]              0         \n",
            "_________________________________________________________________\n",
            "bert (BertModelLayer)        (None, 38, 768)           108890112 \n",
            "_________________________________________________________________\n",
            "lambda_1 (Lambda)            (None, 768)               0         \n",
            "_________________________________________________________________\n",
            "dropout_2 (Dropout)          (None, 768)               0         \n",
            "_________________________________________________________________\n",
            "dense_2 (Dense)              (None, 768)               590592    \n",
            "_________________________________________________________________\n",
            "dropout_3 (Dropout)          (None, 768)               0         \n",
            "_________________________________________________________________\n",
            "dense_3 (Dense)              (None, 7)                 5383      \n",
            "=================================================================\n",
            "Total params: 109,486,087\n",
            "Trainable params: 109,486,087\n",
            "Non-trainable params: 0\n",
            "_________________________________________________________________\n"
          ],
          "name": "stdout"
        }
      ]
    },
    {
      "cell_type": "code",
      "metadata": {
        "id": "koOyyM-NtAP3",
        "colab_type": "code",
        "colab": {}
      },
      "source": [
        "model.compile(\n",
        "  optimizer=keras.optimizers.Adam(1e-5),\n",
        "  loss=keras.losses.SparseCategoricalCrossentropy(from_logits=True),\n",
        "  metrics=[keras.metrics.SparseCategoricalAccuracy(name=\"acc\")]\n",
        ")"
      ],
      "execution_count": 0,
      "outputs": []
    },
    {
      "cell_type": "code",
      "metadata": {
        "id": "XK9ZhYX8uyqI",
        "colab_type": "code",
        "colab": {
          "base_uri": "https://localhost:8080/",
          "height": 212
        },
        "outputId": "dd279fec-88cc-4ffc-804e-5272d416f057"
      },
      "source": [
        "log_dir = \"log/intent_classification/\" + datetime.datetime.now().strftime(\"%Y%m%d-%H%M%s\")\n",
        "tensorboard_callback = keras.callbacks.TensorBoard(log_dir=log_dir)\n",
        "\n",
        "history = model.fit(\n",
        "  x=data.train_x, \n",
        "  y=data.train_y,\n",
        "  validation_split=0.2,\n",
        "  batch_size=128,\n",
        "  shuffle=True,\n",
        "  epochs=5,\n",
        "  callbacks=[tensorboard_callback]\n",
        ")"
      ],
      "execution_count": 24,
      "outputs": [
        {
          "output_type": "stream",
          "text": [
            "Train on 10467 samples, validate on 2617 samples\n",
            "Epoch 1/5\n",
            "10467/10467 [==============================] - 4180s 399ms/sample - loss: 1.2348 - acc: 0.9566 - val_loss: 1.1931 - val_acc: 0.9736\n",
            "Epoch 2/5\n",
            "10467/10467 [==============================] - 4182s 400ms/sample - loss: 1.1946 - acc: 0.9775 - val_loss: 1.1856 - val_acc: 0.9805\n",
            "Epoch 3/5\n",
            "10467/10467 [==============================] - 4209s 402ms/sample - loss: 1.1863 - acc: 0.9835 - val_loss: 1.1804 - val_acc: 0.9855\n",
            "Epoch 4/5\n",
            "10467/10467 [==============================] - 4188s 400ms/sample - loss: 1.1813 - acc: 0.9868 - val_loss: 1.1780 - val_acc: 0.9874\n",
            "Epoch 5/5\n",
            "10467/10467 [==============================] - 4186s 400ms/sample - loss: 1.1806 - acc: 0.9874 - val_loss: 1.1781 - val_acc: 0.9874\n"
          ],
          "name": "stdout"
        }
      ]
    },
    {
      "cell_type": "code",
      "metadata": {
        "id": "OJgPu-M6u3kf",
        "colab_type": "code",
        "colab": {
          "base_uri": "https://localhost:8080/",
          "height": 523
        },
        "outputId": "c7a1e9f3-f441-4530-a468-f5ffa0ecdd26"
      },
      "source": [
        "ax = plt.figure().gca()\n",
        "ax.xaxis.set_major_locator(MaxNLocator(integer=True))\n",
        "\n",
        "ax.plot(history.history['loss'])\n",
        "ax.plot(history.history['val_loss'])\n",
        "plt.ylabel('Loss')\n",
        "plt.xlabel('Epoch')\n",
        "plt.legend(['train', 'valid'])\n",
        "plt.title('Loss over training epochs')\n",
        "plt.show();"
      ],
      "execution_count": 25,
      "outputs": [
        {
          "output_type": "display_data",
          "data": {
            "image/png": "[encoded data removed]",
            "text/plain": [
              "<Figure size 864x576 with 1 Axes>"
            ]
          },
          "metadata": {
            "tags": [],
            "image/png": {
              "width": 740,
              "height": 506
            }
          }
        }
      ]
    },
    {
      "cell_type": "code",
      "metadata": {
        "id": "kAoCarpLwv_r",
        "colab_type": "code",
        "colab": {
          "base_uri": "https://localhost:8080/",
          "height": 523
        },
        "outputId": "eeca3244-43a6-40f5-f2c6-c07cdce951da"
      },
      "source": [
        "ax = plt.figure().gca()\n",
        "ax.xaxis.set_major_locator(MaxNLocator(integer=True))\n",
        "\n",
        "ax.plot(history.history['acc'])\n",
        "ax.plot(history.history['val_acc'])\n",
        "plt.ylabel('Accuracy')\n",
        "plt.xlabel('Epoch')\n",
        "plt.legend(['train', 'valid'])\n",
        "plt.title('Accuracy over training epochs')\n",
        "plt.show();"
      ],
      "execution_count": 26,
      "outputs": [
        {
          "output_type": "display_data",
          "data": {
            "image/png": "[encoded data removed]",
            "text/plain": [
              "<Figure size 864x576 with 1 Axes>"
            ]
          },
          "metadata": {
            "tags": [],
            "image/png": {
              "width": 749,
              "height": 506
            }
          }
        }
      ]
    },
    {
      "cell_type": "code",
      "metadata": {
        "id": "Z7x1Q24Hw0Or",
        "colab_type": "code",
        "colab": {
          "base_uri": "https://localhost:8080/",
          "height": 265
        },
        "outputId": "f4fdb348-ae19-4a68-fc03-b2e287cf21e4"
      },
      "source": [
        "y_val_pred = model.predict(data.valid_x).argmax(axis=-1)\n",
        "print(classification_report(data.valid_y, y_val_pred, target_names=classes))\n",
        "\n",
        "# create new layers that will be trained to adapt BERT to our classification task"
      ],
      "execution_count": 27,
      "outputs": [
        {
          "output_type": "stream",
          "text": [
            "                      precision    recall  f1-score   support\n",
            "\n",
            "           PlayMusic       1.00      0.97      0.98       100\n",
            "       AddToPlaylist       0.99      1.00      1.00       100\n",
            "            RateBook       1.00      0.99      0.99       100\n",
            "SearchScreeningEvent       1.00      0.95      0.97       100\n",
            "      BookRestaurant       1.00      1.00      1.00       100\n",
            "          GetWeather       1.00      1.00      1.00       100\n",
            "  SearchCreativeWork       0.93      1.00      0.96       100\n",
            "\n",
            "            accuracy                           0.99       700\n",
            "           macro avg       0.99      0.99      0.99       700\n",
            "        weighted avg       0.99      0.99      0.99       700\n",
            "\n"
          ],
          "name": "stdout"
        }
      ]
    },
    {
      "cell_type": "code",
      "metadata": {
        "id": "3bW10jN4n4mV",
        "colab_type": "code",
        "colab": {}
      },
      "source": [
        "# will continue to fine tune the model and evaluate on test set"
      ],
      "execution_count": 0,
      "outputs": []
    },
    {
      "cell_type": "markdown",
      "metadata": {
        "id": "X_cVaXvJn1GK",
        "colab_type": "text"
      },
      "source": [
        "References:\n",
        "\n",
        "https://www.curiousily.com/posts/intent-recognition-with-bert-using-keras-and-tensorflow-2/"
      ]
    },
    {
      "cell_type": "code",
      "metadata": {
        "id": "ERCwT6Ecn3sC",
        "colab_type": "code",
        "colab": {}
      },
      "source": [
        ""
      ],
      "execution_count": 0,
      "outputs": []
    }
  ]
}